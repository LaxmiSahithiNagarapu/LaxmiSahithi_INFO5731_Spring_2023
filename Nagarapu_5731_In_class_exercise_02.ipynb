{
  "cells": [
    {
      "cell_type": "markdown",
      "metadata": {
        "id": "view-in-github",
        "colab_type": "text"
      },
      "source": [
        "<a href=\"https://colab.research.google.com/github/LaxmiSahithiNagarapu/LaxmiSahithi_INFO5731_Spring_2023/blob/main/Nagarapu_5731_In_class_exercise_02.ipynb\" target=\"_parent\"><img src=\"https://colab.research.google.com/assets/colab-badge.svg\" alt=\"Open In Colab\"/></a>"
      ]
    },
    {
      "cell_type": "markdown",
      "metadata": {
        "id": "uoYIp9jmmgiF"
      },
      "source": [
        "## The second In-class-exercise (02/07/2023, 40 points in total)"
      ]
    },
    {
      "cell_type": "markdown",
      "metadata": {
        "id": "cK65bB3CmgiK"
      },
      "source": [
        "The purpose of this exercise is to understand users' information needs, then collect data from different sources for analysis."
      ]
    },
    {
      "cell_type": "markdown",
      "metadata": {
        "id": "TLH0tYdQmgiL"
      },
      "source": [
        "Question 1 (10 points): Describe an interesting research question (or practical question) you have in mind, what kind of data should be collected to answer the question(s)? How many data needed for the analysis? The detail steps for collecting and save the data. "
      ]
    },
    {
      "cell_type": "code",
      "execution_count": 34,
      "metadata": {
        "colab": {
          "base_uri": "https://localhost:8080/",
          "height": 104
        },
        "id": "x_zz60e1mgiM",
        "outputId": "a107f943-be16-4814-c6d0-3fea7f66a193"
      },
      "outputs": [
        {
          "output_type": "execute_result",
          "data": {
            "text/plain": [
              "'\\nThe Health of an individual is considered most important at any point of time.people always want to be healthy but \\nunfortunately being sick sometimes is inevitable.It is evident in our daily life that people take the services provided by the\\nhospitals for recovering from the ilness that may be as simple as cold or as fetal as cancer.the medical expenses in most of the \\ncases are not preplaned.So,it is important to know likely or unlikely have to face this situation.\\n\\nThe data that have been choosen by me is regarding various genders,age and geografical locations. so we can analise the patterns \\nand able to extract the features or habits of a person that who spends more ofen on medical services.\\n'"
            ],
            "application/vnd.google.colaboratory.intrinsic+json": {
              "type": "string"
            }
          },
          "metadata": {},
          "execution_count": 34
        }
      ],
      "source": [
        "# Your answer here (no code for this question, write down your answer as detail as possible for the above questions):\n",
        "'''\n",
        "The Health of an individual is considered most important at any point of time.people always want to be healthy but \n",
        "unfortunately being sick sometimes is inevitable.It is evident in our daily life that people take the services provided by the\n",
        "hospitals for recovering from the ilness that may be as simple as cold or as fetal as cancer.the medical expenses in most of the \n",
        "cases are not preplaned.So,it is important to know likely or unlikely have to face this situation.\n",
        "\n",
        "The data that have been choosen by me is regarding various genders,age and geografical locations. so we can analise the patterns \n",
        "and able to extract the features or habits of a person that who spends more ofen on medical services.\n",
        "'''"
      ]
    },
    {
      "cell_type": "markdown",
      "metadata": {
        "id": "Q36ePnxfmgiQ"
      },
      "source": [
        "Question 2 (10 points): Write python code to collect 1000 data samples you discussed above."
      ]
    },
    {
      "cell_type": "code",
      "execution_count": 35,
      "metadata": {
        "colab": {
          "base_uri": "https://localhost:8080/",
          "height": 206
        },
        "id": "QgGF_QBAmgiR",
        "outputId": "f7536231-5700-4cdd-a668-7fcd11c22f98"
      },
      "outputs": [
        {
          "output_type": "execute_result",
          "data": {
            "text/plain": [
              "   age     sex   bmi  children smoker     region  expenses\n",
              "0   19  female  27.9         0    yes  southwest  16884.92\n",
              "1   18    male  33.8         1     no  southeast   1725.55\n",
              "2   28    male  33.0         3     no  southeast   4449.46\n",
              "3   33    male  22.7         0     no  northwest  21984.47\n",
              "4   32    male  28.9         0     no  northwest   3866.86"
            ],
            "text/html": [
              "\n",
              "  <div id=\"df-cf20ea7b-e453-4fed-9f42-9c6c626e76da\">\n",
              "    <div class=\"colab-df-container\">\n",
              "      <div>\n",
              "<style scoped>\n",
              "    .dataframe tbody tr th:only-of-type {\n",
              "        vertical-align: middle;\n",
              "    }\n",
              "\n",
              "    .dataframe tbody tr th {\n",
              "        vertical-align: top;\n",
              "    }\n",
              "\n",
              "    .dataframe thead th {\n",
              "        text-align: right;\n",
              "    }\n",
              "</style>\n",
              "<table border=\"1\" class=\"dataframe\">\n",
              "  <thead>\n",
              "    <tr style=\"text-align: right;\">\n",
              "      <th></th>\n",
              "      <th>age</th>\n",
              "      <th>sex</th>\n",
              "      <th>bmi</th>\n",
              "      <th>children</th>\n",
              "      <th>smoker</th>\n",
              "      <th>region</th>\n",
              "      <th>expenses</th>\n",
              "    </tr>\n",
              "  </thead>\n",
              "  <tbody>\n",
              "    <tr>\n",
              "      <th>0</th>\n",
              "      <td>19</td>\n",
              "      <td>female</td>\n",
              "      <td>27.9</td>\n",
              "      <td>0</td>\n",
              "      <td>yes</td>\n",
              "      <td>southwest</td>\n",
              "      <td>16884.92</td>\n",
              "    </tr>\n",
              "    <tr>\n",
              "      <th>1</th>\n",
              "      <td>18</td>\n",
              "      <td>male</td>\n",
              "      <td>33.8</td>\n",
              "      <td>1</td>\n",
              "      <td>no</td>\n",
              "      <td>southeast</td>\n",
              "      <td>1725.55</td>\n",
              "    </tr>\n",
              "    <tr>\n",
              "      <th>2</th>\n",
              "      <td>28</td>\n",
              "      <td>male</td>\n",
              "      <td>33.0</td>\n",
              "      <td>3</td>\n",
              "      <td>no</td>\n",
              "      <td>southeast</td>\n",
              "      <td>4449.46</td>\n",
              "    </tr>\n",
              "    <tr>\n",
              "      <th>3</th>\n",
              "      <td>33</td>\n",
              "      <td>male</td>\n",
              "      <td>22.7</td>\n",
              "      <td>0</td>\n",
              "      <td>no</td>\n",
              "      <td>northwest</td>\n",
              "      <td>21984.47</td>\n",
              "    </tr>\n",
              "    <tr>\n",
              "      <th>4</th>\n",
              "      <td>32</td>\n",
              "      <td>male</td>\n",
              "      <td>28.9</td>\n",
              "      <td>0</td>\n",
              "      <td>no</td>\n",
              "      <td>northwest</td>\n",
              "      <td>3866.86</td>\n",
              "    </tr>\n",
              "  </tbody>\n",
              "</table>\n",
              "</div>\n",
              "      <button class=\"colab-df-convert\" onclick=\"convertToInteractive('df-cf20ea7b-e453-4fed-9f42-9c6c626e76da')\"\n",
              "              title=\"Convert this dataframe to an interactive table.\"\n",
              "              style=\"display:none;\">\n",
              "        \n",
              "  <svg xmlns=\"http://www.w3.org/2000/svg\" height=\"24px\"viewBox=\"0 0 24 24\"\n",
              "       width=\"24px\">\n",
              "    <path d=\"M0 0h24v24H0V0z\" fill=\"none\"/>\n",
              "    <path d=\"M18.56 5.44l.94 2.06.94-2.06 2.06-.94-2.06-.94-.94-2.06-.94 2.06-2.06.94zm-11 1L8.5 8.5l.94-2.06 2.06-.94-2.06-.94L8.5 2.5l-.94 2.06-2.06.94zm10 10l.94 2.06.94-2.06 2.06-.94-2.06-.94-.94-2.06-.94 2.06-2.06.94z\"/><path d=\"M17.41 7.96l-1.37-1.37c-.4-.4-.92-.59-1.43-.59-.52 0-1.04.2-1.43.59L10.3 9.45l-7.72 7.72c-.78.78-.78 2.05 0 2.83L4 21.41c.39.39.9.59 1.41.59.51 0 1.02-.2 1.41-.59l7.78-7.78 2.81-2.81c.8-.78.8-2.07 0-2.86zM5.41 20L4 18.59l7.72-7.72 1.47 1.35L5.41 20z\"/>\n",
              "  </svg>\n",
              "      </button>\n",
              "      \n",
              "  <style>\n",
              "    .colab-df-container {\n",
              "      display:flex;\n",
              "      flex-wrap:wrap;\n",
              "      gap: 12px;\n",
              "    }\n",
              "\n",
              "    .colab-df-convert {\n",
              "      background-color: #E8F0FE;\n",
              "      border: none;\n",
              "      border-radius: 50%;\n",
              "      cursor: pointer;\n",
              "      display: none;\n",
              "      fill: #1967D2;\n",
              "      height: 32px;\n",
              "      padding: 0 0 0 0;\n",
              "      width: 32px;\n",
              "    }\n",
              "\n",
              "    .colab-df-convert:hover {\n",
              "      background-color: #E2EBFA;\n",
              "      box-shadow: 0px 1px 2px rgba(60, 64, 67, 0.3), 0px 1px 3px 1px rgba(60, 64, 67, 0.15);\n",
              "      fill: #174EA6;\n",
              "    }\n",
              "\n",
              "    [theme=dark] .colab-df-convert {\n",
              "      background-color: #3B4455;\n",
              "      fill: #D2E3FC;\n",
              "    }\n",
              "\n",
              "    [theme=dark] .colab-df-convert:hover {\n",
              "      background-color: #434B5C;\n",
              "      box-shadow: 0px 1px 3px 1px rgba(0, 0, 0, 0.15);\n",
              "      filter: drop-shadow(0px 1px 2px rgba(0, 0, 0, 0.3));\n",
              "      fill: #FFFFFF;\n",
              "    }\n",
              "  </style>\n",
              "\n",
              "      <script>\n",
              "        const buttonEl =\n",
              "          document.querySelector('#df-cf20ea7b-e453-4fed-9f42-9c6c626e76da button.colab-df-convert');\n",
              "        buttonEl.style.display =\n",
              "          google.colab.kernel.accessAllowed ? 'block' : 'none';\n",
              "\n",
              "        async function convertToInteractive(key) {\n",
              "          const element = document.querySelector('#df-cf20ea7b-e453-4fed-9f42-9c6c626e76da');\n",
              "          const dataTable =\n",
              "            await google.colab.kernel.invokeFunction('convertToInteractive',\n",
              "                                                     [key], {});\n",
              "          if (!dataTable) return;\n",
              "\n",
              "          const docLinkHtml = 'Like what you see? Visit the ' +\n",
              "            '<a target=\"_blank\" href=https://colab.research.google.com/notebooks/data_table.ipynb>data table notebook</a>'\n",
              "            + ' to learn more about interactive tables.';\n",
              "          element.innerHTML = '';\n",
              "          dataTable['output_type'] = 'display_data';\n",
              "          await google.colab.output.renderOutput(dataTable, element);\n",
              "          const docLink = document.createElement('div');\n",
              "          docLink.innerHTML = docLinkHtml;\n",
              "          element.appendChild(docLink);\n",
              "        }\n",
              "      </script>\n",
              "    </div>\n",
              "  </div>\n",
              "  "
            ]
          },
          "metadata": {},
          "execution_count": 35
        }
      ],
      "source": [
        "# You code here (Please add comments in the code):\n",
        "\n",
        "import pandas as pd\n",
        "import matplotlib.pyplot as plt\n",
        "data=pd.read_csv('insurance.csv')\n",
        "data.head()\n"
      ]
    },
    {
      "cell_type": "code",
      "execution_count": 36,
      "metadata": {
        "colab": {
          "base_uri": "https://localhost:8080/"
        },
        "id": "r2eGM40EmgiR",
        "outputId": "5192c6a6-4afb-48fd-9343-809cd1909e34"
      },
      "outputs": [
        {
          "output_type": "stream",
          "name": "stdout",
          "text": [
            "      age     sex   bmi  children smoker     region  expenses\n",
            "1206   59  female  34.8         2     no  southwest  36910.61\n",
            "1012   61  female  33.3         4     no  southeast  36580.28\n",
            "242    55  female  26.8         1     no  southwest  35160.13\n",
            "599    52  female  37.5         2     no  northwest  33471.97\n",
            "936    44    male  29.7         2     no  northeast  32108.66\n",
            "...   ...     ...   ...       ...    ...        ...       ...\n",
            "932    46    male  25.8         5     no  southwest  10096.97\n",
            "630    53    male  36.1         1     no  southwest  10085.85\n",
            "844    53    male  30.5         0     no  northeast  10072.06\n",
            "731    53    male  21.4         1     no  southwest  10065.41\n",
            "360    48  female  32.3         2     no  northeast  10043.25\n",
            "\n",
            "[352 rows x 7 columns]\n",
            "      age     sex   bmi  children smoker     region  expenses\n",
            "543    54  female  47.4         0    yes  southeast  63770.43\n",
            "1300   45    male  30.4         0    yes  southeast  62592.87\n",
            "1230   52    male  34.5         3    yes  northwest  60021.40\n",
            "577    31  female  38.1         1    yes  northeast  58571.07\n",
            "819    33  female  35.5         0    yes  northwest  55135.40\n",
            "...   ...     ...   ...       ...    ...        ...       ...\n",
            "412    26  female  17.2         2    yes  northeast  14455.64\n",
            "1282   18  female  21.7         0    yes  northeast  14283.46\n",
            "362    19  female  21.7         0    yes  southwest  13844.51\n",
            "1033   18    male  21.6         0    yes  northeast  13747.87\n",
            "250    18    male  17.3         2    yes  northeast  12829.46\n",
            "\n",
            "[274 rows x 7 columns]\n"
          ]
        }
      ],
      "source": [
        "trop_spenders_total=data[data[\"expenses\"]>10000]\n",
        "top_spenders_non_smokers=trop_spenders_total[trop_spenders_total[\"smoker\"]==\"no\"].sort_values(by='expenses',ascending=False)\n",
        "top_spenders_smokers=trop_spenders_total[trop_spenders_total[\"smoker\"]==\"yes\"].sort_values(by='expenses',ascending=False)\n",
        "print(top_spenders_non_smokers)\n",
        "print(top_spenders_smokers)\n"
      ]
    },
    {
      "cell_type": "code",
      "execution_count": 37,
      "metadata": {
        "colab": {
          "base_uri": "https://localhost:8080/",
          "height": 298
        },
        "id": "gzEfLmD1mgiS",
        "outputId": "62b3998e-f76a-4100-d631-d6c1b243b6b8"
      },
      "outputs": [
        {
          "output_type": "execute_result",
          "data": {
            "text/plain": [
              "Text(0, 0.5, 'Amount')"
            ]
          },
          "metadata": {},
          "execution_count": 37
        },
        {
          "output_type": "display_data",
          "data": {
            "text/plain": [
              "<Figure size 432x288 with 1 Axes>"
            ],
            "image/png": "[encoded data removed]"
          },
          "metadata": {
            "needs_background": "light"
          }
        }
      ],
      "source": [
        "k=[]\n",
        "k.append(top_spenders_non_smokers['expenses'].max())\n",
        "k.append(top_spenders_smokers['expenses'].max())\n",
        "l=[\"Non smoker\",\"smoker\"]\n",
        "plt.bar(l,k)\n",
        "plt.title(\"The Max amount spent by Non smoker Vs smoker\")\n",
        "plt.ylabel('Amount')"
      ]
    },
    {
      "cell_type": "markdown",
      "metadata": {
        "id": "rCQecVnKmgiT"
      },
      "source": [
        "Question 3 (10 points): Write python code to collect 1000 articles from Google Scholar (https://scholar.google.com/), Microsoft Academic (https://academic.microsoft.com/home), or CiteSeerX (https://citeseerx.ist.psu.edu/index), or Semantic Scholar (https://www.semanticscholar.org/), or ACM Digital Libraries (https://dl.acm.org/) with the keyword \"information retrieval\". The articles should be published in the last 10 years (2012-2022).\n",
        "\n",
        "The following information of the article needs to be collected:\n",
        "\n",
        "(1) Title\n",
        "\n",
        "(2) Venue/journal/conference being published\n",
        "\n",
        "(3) Year\n",
        "\n",
        "(4) Authors\n",
        "\n",
        "(5) Abstract"
      ]
    },
    {
      "cell_type": "code",
      "execution_count": 38,
      "metadata": {
        "id": "LxErs2mXmgiU"
      },
      "outputs": [],
      "source": [
        "# You code here (Please add comments in the code):\n",
        "from bs4 import BeautifulSoup\n",
        "import requests\n",
        "\n",
        "url = 'https://scholar.google.com/scholar?hl=en&as_sdt=0%2C5&q=Medical+Expense+Analysis&btnG='\n",
        "response=requests.get(url)\n",
        "soup=BeautifulSoup(response.content,'lxml')\n",
        "\n",
        "for item in soup.select('[data-lid]'):\n",
        "\ttry:\n",
        "\t\tprint('----------------------------------------')\n",
        "\t\tprint(item)\n",
        "\t\t\n",
        "\texcept Exception as e:\n",
        "\t\t#raise e\n",
        "\t\tprint('')\n",
        "        \n"
      ]
    },
    {
      "cell_type": "code",
      "execution_count": 39,
      "metadata": {
        "scrolled": true,
        "id": "wdpl7NWAmgiV"
      },
      "outputs": [],
      "source": [
        "#print(soup.select('[data-lid]')) \n",
        "for item in soup.select('[data-lid]'): \n",
        "  try: \n",
        "    print('----------------------------------------') \n",
        "    #print(item) \n",
        "    print(item.select('h3')[0].get_text()) \n",
        "    print(item.select('a')[0]['href']) \n",
        "    print(item.select('.gs_rs')[0].get_text()) \n",
        "    print('----------------------------------------') \n",
        "  except Exception as e:\n",
        "     print('')\n",
        "        \n",
        "        "
      ]
    },
    {
      "cell_type": "markdown",
      "metadata": {
        "id": "PC5KbhrkmgiW"
      },
      "source": [
        "Question 4 (10 points): Write python code to collect 1000 posts from Twitter, or Facebook, or Instagram. You can either use hashtags, keywords, user_name, user_id, or other information to collect the data. \n",
        "\n",
        "The following information needs to be collected:\n",
        "\n",
        "(1) User_name\n",
        "\n",
        "(2) Posted time\n",
        "\n",
        "(3) Text "
      ]
    },
    {
      "cell_type": "code",
      "source": [
        "pip install tweepy"
      ],
      "metadata": {
        "colab": {
          "base_uri": "https://localhost:8080/"
        },
        "id": "NJIYIQyRvNIB",
        "outputId": "a03d63f1-9a11-422b-b398-bfd340fb1dd5"
      },
      "execution_count": 49,
      "outputs": [
        {
          "output_type": "stream",
          "name": "stdout",
          "text": [
            "Looking in indexes: https://pypi.org/simple, https://us-python.pkg.dev/colab-wheels/public/simple/\n",
            "Requirement already satisfied: tweepy in /usr/local/lib/python3.8/dist-packages (4.12.1)\n",
            "Requirement already satisfied: oauthlib<4,>=3.2.0 in /usr/local/lib/python3.8/dist-packages (from tweepy) (3.2.2)\n",
            "Requirement already satisfied: requests<3,>=2.27.0 in /usr/local/lib/python3.8/dist-packages (from tweepy) (2.28.2)\n",
            "Requirement already satisfied: requests-oauthlib<2,>=1.2.0 in /usr/local/lib/python3.8/dist-packages (from tweepy) (1.3.1)\n",
            "Requirement already satisfied: certifi>=2017.4.17 in /usr/local/lib/python3.8/dist-packages (from requests<3,>=2.27.0->tweepy) (2022.12.7)\n",
            "Requirement already satisfied: idna<4,>=2.5 in /usr/local/lib/python3.8/dist-packages (from requests<3,>=2.27.0->tweepy) (2.10)\n",
            "Requirement already satisfied: charset-normalizer<4,>=2 in /usr/local/lib/python3.8/dist-packages (from requests<3,>=2.27.0->tweepy) (2.1.1)\n",
            "Requirement already satisfied: urllib3<1.27,>=1.21.1 in /usr/local/lib/python3.8/dist-packages (from requests<3,>=2.27.0->tweepy) (1.24.3)\n"
          ]
        }
      ]
    },
    {
      "cell_type": "code",
      "source": [
        "pip install git+https://github.com/tweepy/tweepy.git"
      ],
      "metadata": {
        "colab": {
          "base_uri": "https://localhost:8080/"
        },
        "id": "if8zHgiLu1eD",
        "outputId": "0c3eefab-d8b3-4bc3-85e6-64e77704a5e4"
      },
      "execution_count": 50,
      "outputs": [
        {
          "output_type": "stream",
          "name": "stdout",
          "text": [
            "Looking in indexes: https://pypi.org/simple, https://us-python.pkg.dev/colab-wheels/public/simple/\n",
            "Collecting git+https://github.com/tweepy/tweepy.git\n",
            "  Cloning https://github.com/tweepy/tweepy.git to /tmp/pip-req-build-qe3pvpj3\n",
            "  Running command git clone --filter=blob:none --quiet https://github.com/tweepy/tweepy.git /tmp/pip-req-build-qe3pvpj3\n",
            "  Resolved https://github.com/tweepy/tweepy.git to commit 5d22a01a2f48feaed6817e0ab7c27a990735a3d8\n",
            "  Preparing metadata (setup.py) ... \u001b[?25l\u001b[?25hdone\n",
            "Requirement already satisfied: oauthlib<4,>=3.2.0 in /usr/local/lib/python3.8/dist-packages (from tweepy==4.12.1) (3.2.2)\n",
            "Requirement already satisfied: requests<3,>=2.27.0 in /usr/local/lib/python3.8/dist-packages (from tweepy==4.12.1) (2.28.2)\n",
            "Requirement already satisfied: requests-oauthlib<2,>=1.2.0 in /usr/local/lib/python3.8/dist-packages (from tweepy==4.12.1) (1.3.1)\n",
            "Requirement already satisfied: urllib3<1.27,>=1.21.1 in /usr/local/lib/python3.8/dist-packages (from requests<3,>=2.27.0->tweepy==4.12.1) (1.24.3)\n",
            "Requirement already satisfied: certifi>=2017.4.17 in /usr/local/lib/python3.8/dist-packages (from requests<3,>=2.27.0->tweepy==4.12.1) (2022.12.7)\n",
            "Requirement already satisfied: idna<4,>=2.5 in /usr/local/lib/python3.8/dist-packages (from requests<3,>=2.27.0->tweepy==4.12.1) (2.10)\n",
            "Requirement already satisfied: charset-normalizer<4,>=2 in /usr/local/lib/python3.8/dist-packages (from requests<3,>=2.27.0->tweepy==4.12.1) (2.1.1)\n"
          ]
        }
      ]
    },
    {
      "cell_type": "code",
      "source": [
        "# You code here (Please add comments in the code):\n",
        "!pip install tweepy\n",
        "import pandas as pd\n",
        "import tweepy as tp\n",
        "import pandas as pd\n",
        "import csv\n",
        "import re \n",
        "import string\n",
        "\n",
        "consumer_key= '2Em7SxlX9jPMfL4x97r3zMO0x'\n",
        "consumer_secret= 'sVbJzekKuiAgq83Y7gCwNVbSowqQokGVzWexKHl2cXIPceWtSd'\n",
        "access_key= '1439767876962029572-uUMt8oWRyzj9ilE5zk4uYbL93sCMPT'\n",
        "access_secret= 'oydIGymn9bS767FVEMawE9GyGAnMmBJfaY2XXKmHnmliF'\n",
        "\n",
        "auth = tp.OAuthHandler(consumer_key, consumer_secret)\n",
        "auth.set_access_token(access_key, access_secret)\n",
        "\n",
        "api = tp.API(auth,wait_on_rate_limit=True)\n",
        " \n",
        "csvFile = open('file-name', 'a')\n",
        "csvWriter = csv.writer(csvFile)\n",
        " \n",
        "search_words = \"#Medical\"      # enter your words\n",
        "new_search = search_words + \" -filter:retweets\"\n",
        "csvWriter.writerow([\"created at\",\"Text\",\"User\",\"Location\"])\n",
        "for tweet in tp.Cursor(api.search,q=new_search,count=100,\n",
        "                           lang=\"en\",\n",
        "                           since_id=0).items():\n",
        "    \n",
        "    csvWriter.writerow([tweet.created_at, tweet.text.encode('utf-8'),tweet.user.screen_name.encode('utf-8'), tweet.user.location.encode('utf-8')])\n",
        "    "
      ],
      "metadata": {
        "colab": {
          "base_uri": "https://localhost:8080/"
        },
        "id": "mSkXvvOYu1qI",
        "outputId": "8d9083c3-0bb2-4208-a7f1-4a1da402d8ae"
      },
      "execution_count": 51,
      "outputs": [
        {
          "output_type": "stream",
          "name": "stdout",
          "text": [
            "Looking in indexes: https://pypi.org/simple, https://us-python.pkg.dev/colab-wheels/public/simple/\n",
            "Requirement already satisfied: tweepy in /usr/local/lib/python3.8/dist-packages (4.12.1)\n",
            "Requirement already satisfied: oauthlib<4,>=3.2.0 in /usr/local/lib/python3.8/dist-packages (from tweepy) (3.2.2)\n",
            "Requirement already satisfied: requests-oauthlib<2,>=1.2.0 in /usr/local/lib/python3.8/dist-packages (from tweepy) (1.3.1)\n",
            "Requirement already satisfied: requests<3,>=2.27.0 in /usr/local/lib/python3.8/dist-packages (from tweepy) (2.28.2)\n",
            "Requirement already satisfied: certifi>=2017.4.17 in /usr/local/lib/python3.8/dist-packages (from requests<3,>=2.27.0->tweepy) (2022.12.7)\n",
            "Requirement already satisfied: urllib3<1.27,>=1.21.1 in /usr/local/lib/python3.8/dist-packages (from requests<3,>=2.27.0->tweepy) (1.24.3)\n",
            "Requirement already satisfied: idna<4,>=2.5 in /usr/local/lib/python3.8/dist-packages (from requests<3,>=2.27.0->tweepy) (2.10)\n",
            "Requirement already satisfied: charset-normalizer<4,>=2 in /usr/local/lib/python3.8/dist-packages (from requests<3,>=2.27.0->tweepy) (2.1.1)\n"
          ]
        }
      ]
    },
    {
      "cell_type": "code",
      "execution_count": 52,
      "metadata": {
        "colab": {
          "base_uri": "https://localhost:8080/",
          "height": 423
        },
        "id": "PDtEWEDtmgiX",
        "outputId": "3f5161bb-4f21-4f4a-91cb-db5f17b9b0f3"
      },
      "outputs": [
        {
          "output_type": "execute_result",
          "data": {
            "text/plain": [
              "              created at                                               Text  \\\n",
              "0             created at                                               Text   \n",
              "1             created at                                               Text   \n",
              "2             created at                                               Text   \n",
              "3             created at                                               Text   \n",
              "4             created at                                               Text   \n",
              "..                   ...                                                ...   \n",
              "995  2023-02-10 19:09:30  b'\"Hands-Only CPR is like a rodeo, it takes co...   \n",
              "996  2023-02-10 19:08:10  b'urine test complete guide https://t.co/Xf50H...   \n",
              "997  2023-02-10 19:05:37  b'Common #DNA variants have yielded troves of ...   \n",
              "998  2023-02-10 19:05:11  b'\\xf0\\x9f\\x93\\xafnew collection \\n\\xf0\\x9f\\xa...   \n",
              "999  2023-02-10 19:04:21  b'T.I. was on the scene at  largest annual adv...   \n",
              "\n",
              "                   User                                     Location  \n",
              "0                  User                                     Location  \n",
              "1                  User                                     Location  \n",
              "2                  User                                     Location  \n",
              "3                  User                                     Location  \n",
              "4                  User                                     Location  \n",
              "..                  ...                                          ...  \n",
              "995       b'JimDwyerMD'                                   b'Arizona'  \n",
              "996       b'hubetabibi'                            b'United Kingdom'  \n",
              "997    b'biobankingcom'                                          b''  \n",
              "998  b'shoppinglady155'  b'\\xd9\\x84\\xd8\\xa8\\xd9\\x86\\xd8\\xa7\\xd9\\x86'  \n",
              "999    b'TI_Industries'                              b'Rockaway, NJ'  \n",
              "\n",
              "[1000 rows x 4 columns]"
            ],
            "text/html": [
              "\n",
              "  <div id=\"df-618e0b47-3819-40e8-a8a5-fde0b49b2784\">\n",
              "    <div class=\"colab-df-container\">\n",
              "      <div>\n",
              "<style scoped>\n",
              "    .dataframe tbody tr th:only-of-type {\n",
              "        vertical-align: middle;\n",
              "    }\n",
              "\n",
              "    .dataframe tbody tr th {\n",
              "        vertical-align: top;\n",
              "    }\n",
              "\n",
              "    .dataframe thead th {\n",
              "        text-align: right;\n",
              "    }\n",
              "</style>\n",
              "<table border=\"1\" class=\"dataframe\">\n",
              "  <thead>\n",
              "    <tr style=\"text-align: right;\">\n",
              "      <th></th>\n",
              "      <th>created at</th>\n",
              "      <th>Text</th>\n",
              "      <th>User</th>\n",
              "      <th>Location</th>\n",
              "    </tr>\n",
              "  </thead>\n",
              "  <tbody>\n",
              "    <tr>\n",
              "      <th>0</th>\n",
              "      <td>created at</td>\n",
              "      <td>Text</td>\n",
              "      <td>User</td>\n",
              "      <td>Location</td>\n",
              "    </tr>\n",
              "    <tr>\n",
              "      <th>1</th>\n",
              "      <td>created at</td>\n",
              "      <td>Text</td>\n",
              "      <td>User</td>\n",
              "      <td>Location</td>\n",
              "    </tr>\n",
              "    <tr>\n",
              "      <th>2</th>\n",
              "      <td>created at</td>\n",
              "      <td>Text</td>\n",
              "      <td>User</td>\n",
              "      <td>Location</td>\n",
              "    </tr>\n",
              "    <tr>\n",
              "      <th>3</th>\n",
              "      <td>created at</td>\n",
              "      <td>Text</td>\n",
              "      <td>User</td>\n",
              "      <td>Location</td>\n",
              "    </tr>\n",
              "    <tr>\n",
              "      <th>4</th>\n",
              "      <td>created at</td>\n",
              "      <td>Text</td>\n",
              "      <td>User</td>\n",
              "      <td>Location</td>\n",
              "    </tr>\n",
              "    <tr>\n",
              "      <th>...</th>\n",
              "      <td>...</td>\n",
              "      <td>...</td>\n",
              "      <td>...</td>\n",
              "      <td>...</td>\n",
              "    </tr>\n",
              "    <tr>\n",
              "      <th>995</th>\n",
              "      <td>2023-02-10 19:09:30</td>\n",
              "      <td>b'\"Hands-Only CPR is like a rodeo, it takes co...</td>\n",
              "      <td>b'JimDwyerMD'</td>\n",
              "      <td>b'Arizona'</td>\n",
              "    </tr>\n",
              "    <tr>\n",
              "      <th>996</th>\n",
              "      <td>2023-02-10 19:08:10</td>\n",
              "      <td>b'urine test complete guide https://t.co/Xf50H...</td>\n",
              "      <td>b'hubetabibi'</td>\n",
              "      <td>b'United Kingdom'</td>\n",
              "    </tr>\n",
              "    <tr>\n",
              "      <th>997</th>\n",
              "      <td>2023-02-10 19:05:37</td>\n",
              "      <td>b'Common #DNA variants have yielded troves of ...</td>\n",
              "      <td>b'biobankingcom'</td>\n",
              "      <td>b''</td>\n",
              "    </tr>\n",
              "    <tr>\n",
              "      <th>998</th>\n",
              "      <td>2023-02-10 19:05:11</td>\n",
              "      <td>b'\\xf0\\x9f\\x93\\xafnew collection \\n\\xf0\\x9f\\xa...</td>\n",
              "      <td>b'shoppinglady155'</td>\n",
              "      <td>b'\\xd9\\x84\\xd8\\xa8\\xd9\\x86\\xd8\\xa7\\xd9\\x86'</td>\n",
              "    </tr>\n",
              "    <tr>\n",
              "      <th>999</th>\n",
              "      <td>2023-02-10 19:04:21</td>\n",
              "      <td>b'T.I. was on the scene at  largest annual adv...</td>\n",
              "      <td>b'TI_Industries'</td>\n",
              "      <td>b'Rockaway, NJ'</td>\n",
              "    </tr>\n",
              "  </tbody>\n",
              "</table>\n",
              "<p>1000 rows × 4 columns</p>\n",
              "</div>\n",
              "      <button class=\"colab-df-convert\" onclick=\"convertToInteractive('df-618e0b47-3819-40e8-a8a5-fde0b49b2784')\"\n",
              "              title=\"Convert this dataframe to an interactive table.\"\n",
              "              style=\"display:none;\">\n",
              "        \n",
              "  <svg xmlns=\"http://www.w3.org/2000/svg\" height=\"24px\"viewBox=\"0 0 24 24\"\n",
              "       width=\"24px\">\n",
              "    <path d=\"M0 0h24v24H0V0z\" fill=\"none\"/>\n",
              "    <path d=\"M18.56 5.44l.94 2.06.94-2.06 2.06-.94-2.06-.94-.94-2.06-.94 2.06-2.06.94zm-11 1L8.5 8.5l.94-2.06 2.06-.94-2.06-.94L8.5 2.5l-.94 2.06-2.06.94zm10 10l.94 2.06.94-2.06 2.06-.94-2.06-.94-.94-2.06-.94 2.06-2.06.94z\"/><path d=\"M17.41 7.96l-1.37-1.37c-.4-.4-.92-.59-1.43-.59-.52 0-1.04.2-1.43.59L10.3 9.45l-7.72 7.72c-.78.78-.78 2.05 0 2.83L4 21.41c.39.39.9.59 1.41.59.51 0 1.02-.2 1.41-.59l7.78-7.78 2.81-2.81c.8-.78.8-2.07 0-2.86zM5.41 20L4 18.59l7.72-7.72 1.47 1.35L5.41 20z\"/>\n",
              "  </svg>\n",
              "      </button>\n",
              "      \n",
              "  <style>\n",
              "    .colab-df-container {\n",
              "      display:flex;\n",
              "      flex-wrap:wrap;\n",
              "      gap: 12px;\n",
              "    }\n",
              "\n",
              "    .colab-df-convert {\n",
              "      background-color: #E8F0FE;\n",
              "      border: none;\n",
              "      border-radius: 50%;\n",
              "      cursor: pointer;\n",
              "      display: none;\n",
              "      fill: #1967D2;\n",
              "      height: 32px;\n",
              "      padding: 0 0 0 0;\n",
              "      width: 32px;\n",
              "    }\n",
              "\n",
              "    .colab-df-convert:hover {\n",
              "      background-color: #E2EBFA;\n",
              "      box-shadow: 0px 1px 2px rgba(60, 64, 67, 0.3), 0px 1px 3px 1px rgba(60, 64, 67, 0.15);\n",
              "      fill: #174EA6;\n",
              "    }\n",
              "\n",
              "    [theme=dark] .colab-df-convert {\n",
              "      background-color: #3B4455;\n",
              "      fill: #D2E3FC;\n",
              "    }\n",
              "\n",
              "    [theme=dark] .colab-df-convert:hover {\n",
              "      background-color: #434B5C;\n",
              "      box-shadow: 0px 1px 3px 1px rgba(0, 0, 0, 0.15);\n",
              "      filter: drop-shadow(0px 1px 2px rgba(0, 0, 0, 0.3));\n",
              "      fill: #FFFFFF;\n",
              "    }\n",
              "  </style>\n",
              "\n",
              "      <script>\n",
              "        const buttonEl =\n",
              "          document.querySelector('#df-618e0b47-3819-40e8-a8a5-fde0b49b2784 button.colab-df-convert');\n",
              "        buttonEl.style.display =\n",
              "          google.colab.kernel.accessAllowed ? 'block' : 'none';\n",
              "\n",
              "        async function convertToInteractive(key) {\n",
              "          const element = document.querySelector('#df-618e0b47-3819-40e8-a8a5-fde0b49b2784');\n",
              "          const dataTable =\n",
              "            await google.colab.kernel.invokeFunction('convertToInteractive',\n",
              "                                                     [key], {});\n",
              "          if (!dataTable) return;\n",
              "\n",
              "          const docLinkHtml = 'Like what you see? Visit the ' +\n",
              "            '<a target=\"_blank\" href=https://colab.research.google.com/notebooks/data_table.ipynb>data table notebook</a>'\n",
              "            + ' to learn more about interactive tables.';\n",
              "          element.innerHTML = '';\n",
              "          dataTable['output_type'] = 'display_data';\n",
              "          await google.colab.output.renderOutput(dataTable, element);\n",
              "          const docLink = document.createElement('div');\n",
              "          docLink.innerHTML = docLinkHtml;\n",
              "          element.appendChild(docLink);\n",
              "        }\n",
              "      </script>\n",
              "    </div>\n",
              "  </div>\n",
              "  "
            ]
          },
          "metadata": {},
          "execution_count": 52
        }
      ],
      "source": [
        "data=pd.read_csv('file-name')\n",
        "data.head(1000)\n"
      ]
    }
  ],
  "metadata": {
    "kernelspec": {
      "display_name": "Python 3 (ipykernel)",
      "language": "python",
      "name": "python3"
    },
    "language_info": {
      "codemirror_mode": {
        "name": "ipython",
        "version": 3
      },
      "file_extension": ".py",
      "mimetype": "text/x-python",
      "name": "python",
      "nbconvert_exporter": "python",
      "pygments_lexer": "ipython3",
      "version": "3.9.12"
    },
    "colab": {
      "provenance": [],
      "include_colab_link": true
    }
  },
  "nbformat": 4,
  "nbformat_minor": 0
}