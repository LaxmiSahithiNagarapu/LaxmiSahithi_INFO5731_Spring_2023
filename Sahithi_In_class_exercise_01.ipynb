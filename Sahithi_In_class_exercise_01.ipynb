{
  "cells": [
    {
      "cell_type": "markdown",
      "metadata": {
        "id": "view-in-github",
        "colab_type": "text"
      },
      "source": [
        "<a href=\"https://colab.research.google.com/github/LaxmiSahithiNagarapu/LaxmiSahithi_INFO5731_Spring_2023/blob/main/Sahithi_In_class_exercise_01.ipynb\" target=\"_parent\"><img src=\"https://colab.research.google.com/assets/colab-badge.svg\" alt=\"Open In Colab\"/></a>"
      ]
    },
    {
      "cell_type": "markdown",
      "metadata": {
        "id": "DymRJbxDBCnf"
      },
      "source": [
        "# **The first In-class-exercise (01/24/2023, 40 points in total)**"
      ]
    },
    {
      "cell_type": "markdown",
      "metadata": {
        "id": "03jb4GZsBkBS"
      },
      "source": [
        "(1) Write a Python program to calculate the length of a string. (4 points)"
      ]
    },
    {
      "cell_type": "code",
      "execution_count": null,
      "metadata": {
        "id": "YaGLbSHHB8Ej",
        "outputId": "5c95db39-7e5f-4d36-c669-ccf8c97d295d"
      },
      "outputs": [
        {
          "name": "stdout",
          "output_type": "stream",
          "text": [
            "14\n"
          ]
        }
      ],
      "source": [
        "# write your answer here\n",
        "input_str = \"Discovery park\"\n",
        "print(len(input_str))"
      ]
    },
    {
      "cell_type": "markdown",
      "metadata": {
        "id": "jJDe71iLB616"
      },
      "source": [
        "(2) Write a Python program to count the number of characters in a string. (4 points)\n",
        "\n",
        "Sample String : 'google.com‘, \n",
        "\n",
        "Expected Result : {'o': 3, 'g': 2, '.': 1, 'e': 1, 'l': 1, 'm': 1, 'c': 1}"
      ]
    },
    {
      "cell_type": "code",
      "execution_count": null,
      "metadata": {
        "id": "MtKskTzbCLaU",
        "outputId": "25539ed8-7fa2-42e1-db3b-8cef108bb9d8"
      },
      "outputs": [
        {
          "name": "stdout",
          "output_type": "stream",
          "text": [
            "{'o': 3, 'g': 2, 'l': 1, 'c': 1, 'e': 1, '.': 1, 'm': 1}\n"
          ]
        }
      ],
      "source": [
        "# write your answer here\n",
        "import operator\n",
        "\n",
        "input_str = \"google.com\"\n",
        "\n",
        "dict_count = {}\n",
        "for i in set(input_str):\n",
        "    dict_count[i] = input_str.count(i)\n",
        "    \n",
        "dict_count = dict(sorted(dict_count.items(), key=operator.itemgetter(1),reverse=True))\n",
        "print(dict_count)"
      ]
    },
    {
      "cell_type": "markdown",
      "metadata": {
        "id": "55W9AMdXCSpV"
      },
      "source": [
        "(3) Write a Python program to sum all the items in a list. (4 points)"
      ]
    },
    {
      "cell_type": "code",
      "execution_count": null,
      "metadata": {
        "id": "I57NXsauCec2",
        "outputId": "19fe589e-2f2b-4407-a06d-2ca4ac8c0b9f"
      },
      "outputs": [
        {
          "name": "stdout",
          "output_type": "stream",
          "text": [
            "65\n"
          ]
        }
      ],
      "source": [
        "# write your answer here\n",
        "list_elements = [11, 12, 13, 14, 15]\n",
        "\n",
        "elements_sum = 0\n",
        "\n",
        "for num in list_elements:\n",
        "    elements_sum += num\n",
        "\n",
        "print(elements_sum)"
      ]
    },
    {
      "cell_type": "markdown",
      "metadata": {
        "id": "4ulBZ6yhCi9F"
      },
      "source": [
        "(4) Write a Python program to get a string from a given string where all occurrences of its first char have been changed to '\\$', except the first char itself. (4 points)\n",
        "\n",
        "Sample String : 'restart‘, \n",
        "\n",
        "Expected Result : 'resta\\$t'"
      ]
    },
    {
      "cell_type": "code",
      "execution_count": null,
      "metadata": {
        "id": "Fj0XhwbBCw2o",
        "outputId": "8142103a-7584-4420-fa93-aa18dd847b36"
      },
      "outputs": [
        {
          "name": "stdout",
          "output_type": "stream",
          "text": [
            "resta$t\n"
          ]
        }
      ],
      "source": [
        "# write your answer here\n",
        "sample_string = \"restart\"\n",
        "\n",
        "# the below replaces all the occurences of a string except the first char itself\n",
        "result = \"\".join((sample_string[0], sample_string[1:].replace(sample_string[0], \"$\")))\n",
        "print(result)"
      ]
    },
    {
      "cell_type": "markdown",
      "metadata": {
        "id": "_bIP7s1MCzue"
      },
      "source": [
        "(5) Write a program with python which could accept two parameter a and b to calculate and output the result of S, where \n",
        "\n",
        "$\\ S=3.14*(1+a/b)^3$ (4 points)\n",
        "\n"
      ]
    },
    {
      "cell_type": "code",
      "execution_count": null,
      "metadata": {
        "id": "w79QilHXD3Mg",
        "outputId": "26c71bac-6e17-44b8-802f-86e8e22ff6c6"
      },
      "outputs": [
        {
          "name": "stdout",
          "output_type": "stream",
          "text": [
            "Enter the value of a: 5\n",
            "Enter the value of b: 6\n",
            "The value of S is: 19.3487962962963\n"
          ]
        }
      ],
      "source": [
        "# write your answer here\n",
        "a = int(input(\"Enter the value of a: \"))\n",
        "b = int(input(\"Enter the value of b: \"))\n",
        "\n",
        "S = 3.14 * (1 + (a/b)) ** 3\n",
        "print(\"The value of S is: {}\".format(S))"
      ]
    },
    {
      "cell_type": "markdown",
      "metadata": {
        "id": "xCa2bK9aD4Q3"
      },
      "source": [
        "(6) Write a Python program to concatenate following dictionaries to create a new one. (4 points)\n",
        "\n",
        "Sample Dictionary : dic1={1:10, 2:20}, dic2={3:30, 4:40}, dic3={5:50,6:60}, \n",
        "\n",
        "Expected Result : {1: 10, 2: 20, 3: 30, 4: 40, 5: 50, 6: 60}\n"
      ]
    },
    {
      "cell_type": "code",
      "execution_count": null,
      "metadata": {
        "id": "_z4aLqAbEET1",
        "outputId": "bf7ec0df-85fd-4f08-fe39-8a0ab5a21dfd"
      },
      "outputs": [
        {
          "name": "stdout",
          "output_type": "stream",
          "text": [
            "{1: 10, 2: 20, 3: 30, 4: 40, 5: 50, 6: 60}\n"
          ]
        }
      ],
      "source": [
        "# write your answer here\n",
        "dic1 = {1:10, 2:20}\n",
        "dic2 = {3:30, 4:40}\n",
        "dic3 = {5:50, 6:60}\n",
        "\n",
        "result = {}\n",
        "\n",
        "for dic in [dic1, dic2, dic3]:\n",
        "    result.update(dic)\n",
        "    \n",
        "print(result)"
      ]
    },
    {
      "cell_type": "markdown",
      "metadata": {
        "id": "0v48Vqa7FrQh"
      },
      "source": [
        "(7) Write a Python program to check whether an element exists within a tuple. (4 points)"
      ]
    },
    {
      "cell_type": "code",
      "execution_count": null,
      "metadata": {
        "id": "7WEmgq-DF2P1",
        "outputId": "9c4cbf9a-8144-418d-d211-d81445669f6c"
      },
      "outputs": [
        {
          "name": "stdout",
          "output_type": "stream",
          "text": [
            "Enter an element to search: c\n",
            "False\n"
          ]
        }
      ],
      "source": [
        "# write your answer here\n",
        "sample_tuple = (\"a\", \"b\",1,2)\n",
        "\n",
        "element = input(\"Enter an element to search: \")\n",
        "\n",
        "if element in sample_tuple:\n",
        "    print(\"True\")\n",
        "else:\n",
        "    print(\"False\")"
      ]
    },
    {
      "cell_type": "markdown",
      "metadata": {
        "id": "vD5PYLMuGga_"
      },
      "source": [
        "(8) Write a Python program to find maximum and the minimum value in a set. (4 points)"
      ]
    },
    {
      "cell_type": "code",
      "execution_count": null,
      "metadata": {
        "id": "t0D5kdJUGjjw",
        "outputId": "337ce07e-28a1-4b52-83a2-cef0928b5a56"
      },
      "outputs": [
        {
          "name": "stdout",
          "output_type": "stream",
          "text": [
            "Maximum value is: 28\n",
            "Minimum value is: 6\n"
          ]
        }
      ],
      "source": [
        "# write your answer here\n",
        "sample_set = {10, 15, 16, 8, 6, 28}\n",
        "\n",
        "# uisng max(), min() built-in functions...\n",
        "print(\"Maximum value is: {}\".format(max(sample_set)))\n",
        "print(\"Minimum value is: {}\".format(min(sample_set)))"
      ]
    },
    {
      "cell_type": "markdown",
      "metadata": {
        "id": "uHkd-y5VhVWC"
      },
      "source": [
        "(9) Write a Python program to randomly divide the students in this class into six groups for term projects, each group should have at least 4 students but no more than 6 students (including 6). Here is the students list: (4 points)\n",
        "\n",
        "studnet_list = ['ja0964','sa1198','sb1357','vb0218','sc1229','kg0569','kg0470','sg1297','bg0320','fh0141','jl1252','sk1386',\n",
        "           'ak0956','sk1390','sk1458','sk1313','ak0934','vm0377','nm0618','sm1640','sm1907','gn0108','pr0353','dr0609','ms1500','aos0040','ds0814', 'av0659','nv0234','hy0232']"
      ]
    },
    {
      "cell_type": "code",
      "execution_count": null,
      "metadata": {
        "id": "3iGbmcOBhTwy",
        "outputId": "807c194d-aa84-432f-87fe-1faf33f72ba1"
      },
      "outputs": [
        {
          "name": "stdout",
          "output_type": "stream",
          "text": [
            "['sg1297', 'vm0377', 'nv0234', 'kg0569']\n",
            "['sk1313', 'ds0814', 'sk1458', 'ms1500', 'sb1357']\n",
            "['gn0108', 'jl1252', 'ja0964', 'dr0609']\n",
            "['hy0232', 'kg0470', 'sc1229', 'sm1640', 'sk1390']\n",
            "['vb0218', 'sk1386', 'fh0141', 'nm0618', 'ak0934', 'pr0353']\n",
            "['ak0956', 'aos0040', 'bg0320', 'sa1198', 'av0659', 'sm1907']\n"
          ]
        }
      ],
      "source": [
        "# write your answer here\n",
        "\n",
        "import numpy as np, random\n",
        "studnet_list = ['ja0964','sa1198','sb1357','vb0218','sc1229','kg0569','kg0470','sg1297','bg0320','fh0141','jl1252','sk1386', 'ak0956','sk1390','sk1458','sk1313','ak0934','vm0377','nm0618','sm1640','sm1907','gn0108','pr0353','dr0609','ms1500','aos0040','ds0814', 'av0659','nv0234','hy0232']\n",
        "\n",
        "# we create a group list that sum upto 30\n",
        "len_list = [5, 6, 4, 6, 5, 4]\n",
        "random.shuffle(len_list)\n",
        "result_group = []\n",
        "\n",
        "for i in len_list:\n",
        "    \n",
        "    # generating a sample of length in len_group  \n",
        "    random_group = random.sample(studnet_list, i) \n",
        "    studnet_list = list(set(studnet_list) ^ set(random_group))\n",
        "    result_group = result_group + [random_group]\n",
        "    \n",
        "# random 6 groups are as follows\n",
        "for each_row in result_group:\n",
        "    print(each_row, end= '\\n')"
      ]
    },
    {
      "cell_type": "markdown",
      "metadata": {
        "id": "2LzF5KD3GtwS"
      },
      "source": [
        "(10) Write a Python program to find the duplicate elements in a given array of integers. Return -1 If there are no such elements. (4 points)"
      ]
    },
    {
      "cell_type": "code",
      "execution_count": null,
      "metadata": {
        "id": "fnJjoXeuGtwS",
        "outputId": "f7de60f2-5caf-45d6-9792-0a884207ba5e"
      },
      "outputs": [
        {
          "name": "stdout",
          "output_type": "stream",
          "text": [
            "4 6 8 11 "
          ]
        }
      ],
      "source": [
        "# write your answer here\n",
        "import numpy as np\n",
        "\n",
        "sample_array = np.array([3, 8, 4,11, 11, 5, 6, 8, 4, 6, 1, 2])\n",
        "flag = 0\n",
        "\n",
        "for num in set(sample_array):\n",
        "    if np.count_nonzero(sample_array == num) > 1:\n",
        "        flag = 1\n",
        "        print(num, end = ' ')\n",
        "\n",
        "if flag == 0:\n",
        "    # The result is -1 if there are no duplicate elements in the array\n",
        "    print(\"-1\")"
      ]
    },
    {
      "cell_type": "markdown",
      "metadata": {
        "id": "ldzfI0BlGtwS"
      },
      "source": [
        "(11) Write a Python program to select all the Sundays of a specified year. (4 extra points)"
      ]
    },
    {
      "cell_type": "code",
      "execution_count": null,
      "metadata": {
        "id": "dNCEdwblGtwT",
        "outputId": "74de4a0a-681e-4629-881e-1c8276b47469"
      },
      "outputs": [
        {
          "name": "stdout",
          "output_type": "stream",
          "text": [
            "Enter a year...2023\n"
          ]
        },
        {
          "data": {
            "text/plain": [
              "['01-January-2023',\n",
              " '08-January-2023',\n",
              " '15-January-2023',\n",
              " '22-January-2023',\n",
              " '29-January-2023',\n",
              " '05-February-2023',\n",
              " '12-February-2023',\n",
              " '19-February-2023',\n",
              " '26-February-2023',\n",
              " '05-March-2023',\n",
              " '12-March-2023',\n",
              " '19-March-2023',\n",
              " '26-March-2023',\n",
              " '02-April-2023',\n",
              " '09-April-2023',\n",
              " '16-April-2023',\n",
              " '23-April-2023',\n",
              " '30-April-2023',\n",
              " '07-May-2023',\n",
              " '14-May-2023',\n",
              " '21-May-2023',\n",
              " '28-May-2023',\n",
              " '04-June-2023',\n",
              " '11-June-2023',\n",
              " '18-June-2023',\n",
              " '25-June-2023',\n",
              " '02-July-2023',\n",
              " '09-July-2023',\n",
              " '16-July-2023',\n",
              " '23-July-2023',\n",
              " '30-July-2023',\n",
              " '06-August-2023',\n",
              " '13-August-2023',\n",
              " '20-August-2023',\n",
              " '27-August-2023',\n",
              " '03-September-2023',\n",
              " '10-September-2023',\n",
              " '17-September-2023',\n",
              " '24-September-2023',\n",
              " '01-October-2023',\n",
              " '08-October-2023',\n",
              " '15-October-2023',\n",
              " '22-October-2023',\n",
              " '29-October-2023',\n",
              " '05-November-2023',\n",
              " '12-November-2023',\n",
              " '19-November-2023',\n",
              " '26-November-2023',\n",
              " '03-December-2023',\n",
              " '10-December-2023',\n",
              " '17-December-2023',\n",
              " '24-December-2023',\n",
              " '31-December-2023']"
            ]
          },
          "execution_count": 14,
          "metadata": {},
          "output_type": "execute_result"
        }
      ],
      "source": [
        "# write your answer here\n",
        "import pandas as pd\n",
        "\n",
        "def sundays(year):\n",
        "    \n",
        "  return pd.date_range(start=str(year), end=str(year+1), freq='W-SUN').strftime('%d-%B-%Y').tolist()\n",
        "\n",
        "year = int(input(\"Enter a year...\"))\n",
        "sundays(year)"
      ]
    }
  ],
  "metadata": {
    "colab": {
      "provenance": [],
      "include_colab_link": true
    },
    "kernelspec": {
      "display_name": "Python 3 (ipykernel)",
      "language": "python",
      "name": "python3"
    },
    "language_info": {
      "codemirror_mode": {
        "name": "ipython",
        "version": 3
      },
      "file_extension": ".py",
      "mimetype": "text/x-python",
      "name": "python",
      "nbconvert_exporter": "python",
      "pygments_lexer": "ipython3",
      "version": "3.9.12"
    }
  },
  "nbformat": 4,
  "nbformat_minor": 0
}